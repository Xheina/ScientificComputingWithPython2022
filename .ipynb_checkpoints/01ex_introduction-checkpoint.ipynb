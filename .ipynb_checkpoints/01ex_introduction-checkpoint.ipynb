{
 "cells": [
  {
   "cell_type": "markdown",
   "metadata": {},
   "source": [
    "You can solve these exercises in the room or at home. For this week, and the next 3 weeks, exercises have to be solved by creating a dedicated `.py` file (or files) called `01ex_introduction.py`.\n",
    "\n",
    "In case you need multiple files, name them `01ex_introduction_es01.py`, `01ex_introduction_es02.py` and so on. \n",
    "\n",
    "The exercises need to run without errors in `python3`."
   ]
  },
  {
   "cell_type": "markdown",
   "metadata": {},
   "source": [
    "1\\. **The HelloWorld replacement**\n",
    "\n",
    "a) Write a program that:\n",
    "- prints the numbers from 1 to 100\n",
    "- but for multiples of three print \"`Hello`\" instead of the number and for the multiples of five print \"`World`\"\n",
    "- for numbers which are multiples of both three and five print \"`HelloWorld`\".\n",
    "\n",
    "b) Put the result in a tuple and substitute \"`Hello`\" with \"`Python`\" and \"`World`\" with \"`Works`\"."
   ]
  },
  {
   "cell_type": "code",
   "execution_count": 1,
   "metadata": {},
   "outputs": [
    {
     "name": "stdout",
     "output_type": "stream",
     "text": [
      "1\n",
      "2\n",
      "Hello\n",
      "4\n",
      "World\n",
      "Hello\n",
      "7\n",
      "8\n",
      "Hello\n",
      "World\n",
      "11\n",
      "Hello\n",
      "13\n",
      "14\n",
      "HelloWorld\n",
      "16\n",
      "17\n",
      "Hello\n",
      "19\n",
      "World\n",
      "Hello\n",
      "22\n",
      "23\n",
      "Hello\n",
      "World\n",
      "26\n",
      "Hello\n",
      "28\n",
      "29\n",
      "HelloWorld\n",
      "31\n",
      "32\n",
      "Hello\n",
      "34\n",
      "World\n",
      "Hello\n",
      "37\n",
      "38\n",
      "Hello\n",
      "World\n",
      "41\n",
      "Hello\n",
      "43\n",
      "44\n",
      "HelloWorld\n",
      "46\n",
      "47\n",
      "Hello\n",
      "49\n",
      "World\n",
      "Hello\n",
      "52\n",
      "53\n",
      "Hello\n",
      "World\n",
      "56\n",
      "Hello\n",
      "58\n",
      "59\n",
      "HelloWorld\n",
      "61\n",
      "62\n",
      "Hello\n",
      "64\n",
      "World\n",
      "Hello\n",
      "67\n",
      "68\n",
      "Hello\n",
      "World\n",
      "71\n",
      "Hello\n",
      "73\n",
      "74\n",
      "HelloWorld\n",
      "76\n",
      "77\n",
      "Hello\n",
      "79\n",
      "World\n",
      "Hello\n",
      "82\n",
      "83\n",
      "Hello\n",
      "World\n",
      "86\n",
      "Hello\n",
      "88\n",
      "89\n",
      "HelloWorld\n",
      "91\n",
      "92\n",
      "Hello\n",
      "94\n",
      "World\n",
      "Hello\n",
      "97\n",
      "98\n",
      "Hello\n",
      "World\n"
     ]
    }
   ],
   "source": [
    "#1A:\n",
    "for i in range(1,101):  #returns i , 1 to 100\n",
    "    if i%3 == 0 and i%5 == 0:  # when i multiple of 15\n",
    "        print(\"HelloWorld\")\n",
    "    elif i%5 == 0: #when i multiple of 5\n",
    "        print(\"World\")\n",
    "    elif i%3 == 0: #when i multiple of 3\n",
    "        print(\"Hello\")\n",
    "    else:\n",
    "        print(i)"
   ]
  },
  {
   "cell_type": "code",
   "execution_count": 5,
   "metadata": {},
   "outputs": [
    {
     "name": "stdout",
     "output_type": "stream",
     "text": [
      "(1, 2, 'Python', 4, 'Works', 'Python', 7, 8, 'Python', 'Works', 11, 'Python', 13, 14, 'PythonWorks', 16, 17, 'Python', 19, 'Works', 'Python', 22, 23, 'Python', 'Works', 26, 'Python', 28, 29, 'PythonWorks', 31, 32, 'Python', 34, 'Works', 'Python', 37, 38, 'Python', 'Works', 41, 'Python', 43, 44, 'PythonWorks', 46, 47, 'Python', 49, 'Works', 'Python', 52, 53, 'Python', 'Works', 56, 'Python', 58, 59, 'PythonWorks', 61, 62, 'Python', 64, 'Works', 'Python', 67, 68, 'Python', 'Works', 71, 'Python', 73, 74, 'PythonWorks', 76, 77, 'Python', 79, 'Works', 'Python', 82, 83, 'Python', 'Works', 86, 'Python', 88, 89, 'PythonWorks', 91, 92, 'Python', 94, 'Works', 'Python', 97, 98, 'Python', 'Works')\n"
     ]
    }
   ],
   "source": [
    "def hello_world(x,n):\n",
    "    list_1=[]\n",
    "    for i in range(x,n+1):  \n",
    "        if i%3 == 0 and i%5 == 0:  \n",
    "            list_1.append(\"HelloWorld\")\n",
    "        elif i%5 == 0: \n",
    "            list_1.append(\"World\")\n",
    "        elif i%3 == 0: \n",
    "            list_1.append(\"Hello\")\n",
    "        else:\n",
    "            list_1.append(i)\n",
    "    return tuple(list_1) #turned tuple\n",
    "tuple_2 = hello_world(1,100) #here is the tuple.\n",
    "#now we can substitute the words but tuple is immutable so we need to convert it to list than we can do the substitution\n",
    "tuple_2 = list(tuple_2)\n",
    "\n",
    "for i in range(len(tuple_2)):\n",
    "    if tuple_2[i] == \"HelloWorld\":\n",
    "        tuple_2[i] = \"PythonWorks\"\n",
    "    if tuple_2[i] == \"World\":\n",
    "        tuple_2[i] = \"Works\"\n",
    "    if tuple_2[i] == \"Hello\":\n",
    "        tuple_2[i] = \"Python\"\n",
    "       \n",
    "tuple_2 = tuple(tuple_2) #convert it to tuple\n",
    "\n",
    "print(tuple_2)"
   ]
  },
  {
   "cell_type": "markdown",
   "metadata": {},
   "source": [
    "2\\. **The swap**\n",
    "\n",
    "Write a program that swaps the values of two input variables *x* and *y* from command line (whatever the type).\n",
    "\n",
    "Try to do that without using a temporary variable, exploiting the Python syntax."
   ]
  },
  {
   "cell_type": "code",
   "execution_count": 7,
   "metadata": {},
   "outputs": [
    {
     "name": "stdout",
     "output_type": "stream",
     "text": [
      "(5, '4')\n"
     ]
    }
   ],
   "source": [
    "#cretaing a function that swaps variables without caring for the type of them\n",
    "def swap_func(x,y):\n",
    "    x,y = y,x  \n",
    "    return x,y\n",
    "\n",
    "\n",
    "print(swap_func(\"4\",5))\n"
   ]
  },
  {
   "cell_type": "markdown",
   "metadata": {},
   "source": [
    "3\\. **Computing the distance**\n",
    "\n",
    "Write a function that calculates and returns the euclidean distance between two points *u* and *v* in a 2D space, where *u* and *v* are both 2-tuples *(x,y)*.\n",
    "\n",
    "Example: if *u=(3,0)* and *v=(0,4)*, the function should return 5.\n",
    "\n",
    "*Hint:* in order to compute the square root, import the `math` library with `import math` and use `math.sqrt()`."
   ]
  },
  {
   "cell_type": "code",
   "execution_count": 8,
   "metadata": {},
   "outputs": [
    {
     "name": "stdout",
     "output_type": "stream",
     "text": [
      "5.0\n"
     ]
    }
   ],
   "source": [
    "#creating a function that takes 2 tuples as arguments and computes the formula for the euclidian distance\n",
    "def euclidean_distance(u,v):\n",
    "    (x1,y1) = u   \n",
    "    (x2,y2) = v\n",
    "    return ((x2-x1)**2+(y2-y1)**2)**(1/2) \n",
    "\n",
    "\n",
    "print(euclidean_distance((0,0),(3,4)))\n",
    "    "
   ]
  },
  {
   "cell_type": "markdown",
   "metadata": {},
   "source": [
    "4\\. **Counting letters**\n",
    "\n",
    "Write a program that calculates the number of times each character occurs in a given string. Ignore differences in capitalization.\n",
    "\n",
    "The strings are in the cell below."
   ]
  },
  {
   "cell_type": "code",
   "execution_count": 10,
   "metadata": {},
   "outputs": [],
   "source": [
    "s1 = \"Write a program that prints the numbers from 1 to 100. \\\n",
    "But for multiples of three print Hello instead of the number and for the multiples of five print World. \\\n",
    "For numbers which are multiples of both three and five print HelloWorld.\"\n",
    "s2 = \"The quick brown fox jumps over the lazy dog\""
   ]
  },
  {
   "cell_type": "code",
   "execution_count": 11,
   "metadata": {},
   "outputs": [
    {
     "data": {
      "text/plain": [
       "{'t': 2,\n",
       " 'h': 2,\n",
       " 'e': 3,\n",
       " ' ': 8,\n",
       " 'q': 1,\n",
       " 'u': 2,\n",
       " 'i': 1,\n",
       " 'c': 1,\n",
       " 'k': 1,\n",
       " 'b': 8,\n",
       " 'r': 1,\n",
       " 'o': 2,\n",
       " 'w': 4,\n",
       " 'n': 1,\n",
       " 'f': 1,\n",
       " 'x': 8,\n",
       " 'j': 1,\n",
       " 'm': 4,\n",
       " 'p': 1,\n",
       " 's': 8,\n",
       " 'v': 1,\n",
       " 'l': 2,\n",
       " 'a': 1,\n",
       " 'z': 1,\n",
       " 'y': 1,\n",
       " 'd': 8,\n",
       " 'g': 4}"
      ]
     },
     "execution_count": 11,
     "metadata": {},
     "output_type": "execute_result"
    }
   ],
   "source": [
    "def char_counter(string): #creating a function that takes a string as argument\n",
    "    charlist = []  #defining an empty list so we can later put the unique characters in it\n",
    "    countchar = {} #empty dictionary that we can put as key-value pairs the characters and the number of times they occur\n",
    "    \n",
    "    string = string.lower() #to ignore differences in capitalization\n",
    "    \n",
    "    for i in range(len(string)):  \n",
    "        if string[i] not in charlist: #if a character unique for the charlist\n",
    "            charlist.append(string[i]) #we put it in the list\n",
    "            \n",
    "        elif string[i] in charlist: #if it is not unique we do nothing\n",
    "            pass\n",
    "        \n",
    "    for i in range(len(charlist)): #for every char in list\n",
    "        countchar[charlist[i]] = string.count(string[i]) #it will make the list item = key, \n",
    "                                                         #value = number of times the char occurs\n",
    "                                                      \n",
    "            \n",
    "    return  countchar\n",
    "\n",
    "char_counter(s2)"
   ]
  },
  {
   "cell_type": "markdown",
   "metadata": {},
   "source": [
    "5\\. **Isolating the unique**\n",
    "\n",
    "Write a program that determines and counts the unique numbers in the list:"
   ]
  },
  {
   "cell_type": "code",
   "execution_count": 13,
   "metadata": {},
   "outputs": [],
   "source": [
    "l = [36, 45, 58, 3, 74, 96, 64, 45, 31, 10, 24, 19, 33, 86, 99, 18, 63, 70, 85,\n",
    " 85, 63, 47, 56, 42, 70, 84, 88, 55, 20, 54, 8, 56, 51, 79, 81, 57, 37, 91,\n",
    " 1, 84, 84, 36, 66, 9, 89, 50, 42, 91, 50, 95, 90, 98, 39, 16, 82, 31, 92, 41,\n",
    " 45, 30, 66, 70, 34, 85, 94, 5, 3, 36, 72, 91, 84, 34, 87, 75, 53, 51, 20, 89, 51, 20]"
   ]
  },
  {
   "cell_type": "markdown",
   "metadata": {},
   "source": [
    "Do the same exploiting only the Python data structures."
   ]
  },
  {
   "cell_type": "code",
   "execution_count": 14,
   "metadata": {},
   "outputs": [
    {
     "name": "stdout",
     "output_type": "stream",
     "text": [
      "Unique number count of the list: 54\n",
      "New list: [36, 45, 58, 3, 74, 96, 64, 31, 10, 24, 19, 33, 86, 99, 18, 63, 70, 85, 47, 56, 42, 84, 88, 55, 20, 54, 8, 51, 79, 81, 57, 37, 91, 1, 66, 9, 89, 50, 95, 90, 98, 39, 16, 82, 92, 41, 30, 34, 94, 5, 72, 87, 75, 53]\n"
     ]
    }
   ],
   "source": [
    "def unique_isolator(arr):\n",
    "    list_1 = [] #we create an empty list\n",
    "    for item in arr: \n",
    "        if item not in list_1: #if there is a new number put it in the list\n",
    "            list_1.append(item)\n",
    "    return len(list_1) ,list_1\n",
    " \n",
    "print(\"Unique number count of the list: \"+str(unique_isolator(l)[0]))\n",
    "print(\"New list: \"+str(unique_isolator(l)[1])) #printing the new list with unique elements"
   ]
  },
  {
   "cell_type": "code",
   "execution_count": 16,
   "metadata": {},
   "outputs": [
    {
     "name": "stdout",
     "output_type": "stream",
     "text": [
      "Unique number count of the list: 54\n",
      "         \n",
      "New list: [1, 3, 5, 8, 9, 10, 16, 18, 19, 20, 24, 30, 31, 33, 34, 36, 37, 39, 41, 42, 45, 47, 50, 51, 53, 54, 55, 56, 57, 58, 63, 64, 66, 70, 72, 74, 75, 79, 81, 82, 84, 85, 86, 87, 88, 89, 90, 91, 92, 94, 95, 96, 98, 99]\n"
     ]
    }
   ],
   "source": [
    "#Do the same exploiting only the Python data structures.\n",
    "print(\"Unique number count of the list: \"+str(len(set(l)))) #this can be done with using sets\n",
    "\n",
    "#print(len(set(l)))\n",
    "print(\"         \")\n",
    "print(\"New list: \"+str(list(set(l)))) #make it set then make it list again"
   ]
  },
  {
   "cell_type": "markdown",
   "metadata": {},
   "source": [
    "6\\. **Casting**\n",
    "\n",
    "Write a program that:\n",
    "* reads from command line two variables, that can be either `int`, `float`, or `str`.\n",
    "* use the `try`/`except` expressions to perform the addition of these two variables, only if possible\n",
    "* and print the result without making the code crash for all the `int`/`float`/`str` input combinations."
   ]
  },
  {
   "cell_type": "code",
   "execution_count": 18,
   "metadata": {},
   "outputs": [
    {
     "name": "stdout",
     "output_type": "stream",
     "text": [
      "Insert variable x: 2\n",
      "Insert variable y: 3\n",
      "summ is: 5\n"
     ]
    }
   ],
   "source": [
    "x = input(\"Insert variable x: \")\n",
    "y = input(\"Insert variable y: \")\n",
    "\n",
    "try:\n",
    "    var1 = int(x) #x is an int\n",
    "except ValueError:\n",
    "    try:\n",
    "        var1 = float(x) #x is a float\n",
    "    except ValueError:\n",
    "        var1 = x #x is a string\n",
    "try:\n",
    "    var2 = int(y) #y is an int\n",
    "except ValueError:\n",
    "    try:\n",
    "        var2 = float(y) #y is a float\n",
    "    except ValueError:\n",
    "        var2 = y #y is a string   \n",
    "\n",
    "try:\n",
    "    added = var1+var2\n",
    "    print(\"summ is:\",added)\n",
    "except:\n",
    "    print(\"Addition was not possible\")"
   ]
  },
  {
   "cell_type": "markdown",
   "metadata": {},
   "source": [
    "7\\. **Cubes**\n",
    "\n",
    "Create a list of the cubes of *x* for *x* in *[0, 10]* using:\n",
    "\n",
    "a) a for loop\n",
    "\n",
    "b) a list comprehension"
   ]
  },
  {
   "cell_type": "code",
   "execution_count": 22,
   "metadata": {},
   "outputs": [
    {
     "name": "stdout",
     "output_type": "stream",
     "text": [
      "[1, 8, 27, 64, 125, 216, 343, 512, 729, 1000]\n",
      "[1, 8, 27, 64, 125, 216, 343, 512, 729, 1000]\n"
     ]
    }
   ],
   "source": [
    "#a) for loop\n",
    "list_1 = []\n",
    "for i in range(1,11):\n",
    "    list_1.append(i**3)\n",
    "print(list_1)\n",
    "\n",
    "#b) list comprehension\n",
    "list_2 = [i**3 for i in range(1,11)]\n",
    "print(list_2)\n",
    "    "
   ]
  },
  {
   "cell_type": "markdown",
   "metadata": {},
   "source": [
    "8\\. **List comprehension**\n",
    "\n",
    "Write, using the list comprehension, a single-line expression that gets the same result as the code in the cell below."
   ]
  },
  {
   "cell_type": "code",
   "execution_count": 23,
   "metadata": {},
   "outputs": [
    {
     "name": "stdout",
     "output_type": "stream",
     "text": [
      "[(0, 0), (1, 0), (2, 0), (0, 1), (1, 1), (2, 1), (0, 2), (1, 2), (2, 2), (0, 3), (1, 3), (2, 3)]\n"
     ]
    }
   ],
   "source": [
    "a = [(i,j) for j in range(4) for i in range(3)]\n",
    "print(a)\n"
   ]
  },
  {
   "cell_type": "markdown",
   "metadata": {},
   "source": [
    "9\\. **Nested list comprehension**\n",
    "\n",
    "> A Pythagorean triple is an integer solution to the Pythagorean theorem $a^2+b^2=c^2$. The first Pythagorean triple is (3, 4, 5).\n",
    "\n",
    "Find and put in a tuple all unique Pythagorean triples for the positive integers $a$, $b$ and $c$ with $c < 100$."
   ]
  },
  {
   "cell_type": "code",
   "execution_count": 24,
   "metadata": {},
   "outputs": [
    {
     "data": {
      "text/plain": [
       "[(4, 3, 5),\n",
       " (3, 4, 5),\n",
       " (8, 6, 10),\n",
       " (6, 8, 10),\n",
       " (12, 5, 13),\n",
       " (5, 12, 13),\n",
       " (12, 9, 15),\n",
       " (9, 12, 15),\n",
       " (15, 8, 17),\n",
       " (8, 15, 17),\n",
       " (16, 12, 20),\n",
       " (12, 16, 20),\n",
       " (24, 7, 25),\n",
       " (20, 15, 25),\n",
       " (15, 20, 25),\n",
       " (7, 24, 25),\n",
       " (24, 10, 26),\n",
       " (10, 24, 26),\n",
       " (21, 20, 29),\n",
       " (20, 21, 29),\n",
       " (24, 18, 30),\n",
       " (18, 24, 30),\n",
       " (30, 16, 34),\n",
       " (16, 30, 34),\n",
       " (28, 21, 35),\n",
       " (21, 28, 35),\n",
       " (35, 12, 37),\n",
       " (12, 35, 37),\n",
       " (36, 15, 39),\n",
       " (15, 36, 39),\n",
       " (32, 24, 40),\n",
       " (24, 32, 40),\n",
       " (40, 9, 41),\n",
       " (9, 40, 41),\n",
       " (36, 27, 45),\n",
       " (27, 36, 45),\n",
       " (48, 14, 50),\n",
       " (40, 30, 50),\n",
       " (30, 40, 50),\n",
       " (14, 48, 50),\n",
       " (45, 24, 51),\n",
       " (24, 45, 51),\n",
       " (48, 20, 52),\n",
       " (20, 48, 52),\n",
       " (45, 28, 53),\n",
       " (28, 45, 53),\n",
       " (44, 33, 55),\n",
       " (33, 44, 55),\n",
       " (42, 40, 58),\n",
       " (40, 42, 58),\n",
       " (48, 36, 60),\n",
       " (36, 48, 60),\n",
       " (60, 11, 61),\n",
       " (11, 60, 61),\n",
       " (63, 16, 65),\n",
       " (60, 25, 65),\n",
       " (56, 33, 65),\n",
       " (52, 39, 65),\n",
       " (39, 52, 65),\n",
       " (33, 56, 65),\n",
       " (25, 60, 65),\n",
       " (16, 63, 65),\n",
       " (60, 32, 68),\n",
       " (32, 60, 68),\n",
       " (56, 42, 70),\n",
       " (42, 56, 70),\n",
       " (55, 48, 73),\n",
       " (48, 55, 73),\n",
       " (70, 24, 74),\n",
       " (24, 70, 74),\n",
       " (72, 21, 75),\n",
       " (60, 45, 75),\n",
       " (45, 60, 75),\n",
       " (21, 72, 75),\n",
       " (72, 30, 78),\n",
       " (30, 72, 78),\n",
       " (64, 48, 80),\n",
       " (48, 64, 80),\n",
       " (80, 18, 82),\n",
       " (18, 80, 82),\n",
       " (84, 13, 85),\n",
       " (77, 36, 85),\n",
       " (75, 40, 85),\n",
       " (68, 51, 85),\n",
       " (51, 68, 85),\n",
       " (40, 75, 85),\n",
       " (36, 77, 85),\n",
       " (13, 84, 85),\n",
       " (63, 60, 87),\n",
       " (60, 63, 87),\n",
       " (80, 39, 89),\n",
       " (39, 80, 89),\n",
       " (72, 54, 90),\n",
       " (54, 72, 90),\n",
       " (84, 35, 91),\n",
       " (35, 84, 91),\n",
       " (76, 57, 95),\n",
       " (57, 76, 95),\n",
       " (72, 65, 97),\n",
       " (65, 72, 97),\n",
       " (96, 28, 100),\n",
       " (80, 60, 100),\n",
       " (60, 80, 100),\n",
       " (28, 96, 100)]"
      ]
     },
     "execution_count": 24,
     "metadata": {},
     "output_type": "execute_result"
    }
   ],
   "source": [
    "[(a,b,c) for c in range(1,101) for b in range(1,101) for a in range(1,101) if a**2+b**2==c**2] #iterate through the values from 1 to 101 that sutisfy the Pythagorean condition"
   ]
  },
  {
   "cell_type": "markdown",
   "metadata": {},
   "source": [
    "10\\. **Normalization of a N-dimensional vector**\n",
    "\n",
    "Write a program that takes an N-dimensional vector, e.g. a variable-length tuple of numbers, and normalizes it to one (in such a way that the squared sum of all the entries is equal to 1)."
   ]
  },
  {
   "cell_type": "code",
   "execution_count": null,
   "metadata": {},
   "outputs": [],
   "source": [
    "tup1=(2,3,4,5,6)\n",
    "max(tup1)\n",
    "def normalize_tup(tup):\n",
    "    tup2=[] \n",
    "    for i in range(len(tup)):\n",
    "        tup2.append(tup[i]/sum(tup)) #i normalized it the total sum of the tuple\n",
    "    return tuple(tup2)\n",
    "normalize_tup(tup1)"
   ]
  },
  {
   "cell_type": "markdown",
   "metadata": {},
   "source": [
    "11\\. **The Fibonacci sequence**\n",
    "\n",
    "Calculate the first 20 numbers of the [Fibonacci sequence](https://en.wikipedia.org/wiki/Fibonacci_number) using only `for` or `while` loops."
   ]
  },
  {
   "cell_type": "code",
   "execution_count": null,
   "metadata": {},
   "outputs": [],
   "source": [
    "fib1 = [0,1]\n",
    "while len(fib1)<20:\n",
    "    fib_new = fib1[-1]+fib1[-2]\n",
    "    fib1.append(fib_new)\n",
    "print(fib1)\n",
    "\n",
    "#Using for loop (iterative)\n",
    "fib2 = [0,1]\n",
    "a,b = 0,1\n",
    "for i in range(18):\n",
    "    a,b = b,a+b\n",
    "    fib2.append(b)\n",
    "print(fib2)\n"
   ]
  }
 ],
 "metadata": {
  "kernelspec": {
   "display_name": "Python 3 (ipykernel)",
   "language": "python",
   "name": "python3"
  },
  "language_info": {
   "codemirror_mode": {
    "name": "ipython",
    "version": 3
   },
   "file_extension": ".py",
   "mimetype": "text/x-python",
   "name": "python",
   "nbconvert_exporter": "python",
   "pygments_lexer": "ipython3",
   "version": "3.9.7"
  }
 },
 "nbformat": 4,
 "nbformat_minor": 4
}
